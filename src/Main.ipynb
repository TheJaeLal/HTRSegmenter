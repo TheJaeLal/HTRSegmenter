{
 "cells": [
  {
   "cell_type": "code",
   "execution_count": null,
   "metadata": {},
   "outputs": [],
   "source": [
    "import cv2\n",
    "import matplotlib.pyplot as plt\n",
    "import numpy as np\n",
    "import os\n",
    "\n",
    "from DataLoader import DataLoader, Batch\n",
    "from Model import Model\n",
    "import OutputProcessor\n",
    "\n",
    "import cvutils"
   ]
  },
  {
   "cell_type": "markdown",
   "metadata": {},
   "source": [
    "## Specify input-data directory, and load models "
   ]
  },
  {
   "cell_type": "code",
   "execution_count": null,
   "metadata": {},
   "outputs": [],
   "source": [
    "loader = DataLoader('../data/', Model.batchSize, Model.imgSize)\n",
    "\n",
    "model = Model('../model/best_models/', mustRestore=True)"
   ]
  },
  {
   "cell_type": "code",
   "execution_count": null,
   "metadata": {},
   "outputs": [],
   "source": [
    "## Preprocessing Step 1: --> Correct slant\n",
    "for img_name in os.listdir('final_test_set/'):\n",
    "    img = cv2.imread('final_test_set/'+img_name, cv2.IMREAD_GRAYSCALE)\n",
    "    img = cvutils.correct_slant(img)\n",
    "    cv2.imwrite('slant_corrected_set/'+img_name, img)"
   ]
  },
  {
   "cell_type": "code",
   "execution_count": null,
   "metadata": {},
   "outputs": [],
   "source": [
    "# Get all the inference/test images in a batch (Refer 'Batch' class in 'DataLoader')\n",
    "infer_batch = loader.getInferBatch()\n",
    "\n",
    "# Get the predictions (targetSplits --> x-cordinates of vertical lines segmenting words into characters)\n",
    "predictedSplits = model.inferBatch(infer_batch)\n",
    "infer_batch.targetSplits = predictedSplits\n",
    "\n",
    "# Apply Non Max Suppression to eliminate overlapping/low-confidence output Splits\n",
    "# Rescale them to original image size\n",
    "final_splits = OutputProcessor.apply_nms_and_rescale_outputs(infer_batch)"
   ]
  },
  {
   "cell_type": "code",
   "execution_count": null,
   "metadata": {},
   "outputs": [],
   "source": [
    "# Iterate through every image in test/infer Samples and draw the corresponding splits\n",
    "for i in range(len(loader.inferSamples)):\n",
    "    img = cv2.imread('../data/test_words/'+loader.inferSamples[i])\n",
    "\n",
    "    # img = cvutils.viz_splits_all(cv2.imread('../data/test_words/'+loader.inferSamples[4]), infer_batch.targetSplits[4], confidence_threshold=0.1)\n",
    "\n",
    "    img = cvutils.viz_splits_final(img,final_splits[i])\n",
    "    cv2.imwrite('final_splits/'+loader.inferSamples[i], img)"
   ]
  }
 ],
 "metadata": {
  "kernelspec": {
   "display_name": "Python 3",
   "language": "python",
   "name": "python3"
  },
  "language_info": {
   "codemirror_mode": {
    "name": "ipython",
    "version": 3
   },
   "file_extension": ".py",
   "mimetype": "text/x-python",
   "name": "python",
   "nbconvert_exporter": "python",
   "pygments_lexer": "ipython3",
   "version": "3.6.5"
  }
 },
 "nbformat": 4,
 "nbformat_minor": 2
}
